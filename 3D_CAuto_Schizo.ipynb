{
 "cells": [
  {
   "cell_type": "code",
   "execution_count": 1,
   "metadata": {},
   "outputs": [
    {
     "name": "stderr",
     "output_type": "stream",
     "text": [
      "C:\\Users\\Naveen\\Anaconda2\\envs\\Python_35\\lib\\site-packages\\h5py\\__init__.py:36: FutureWarning: Conversion of the second argument of issubdtype from `float` to `np.floating` is deprecated. In future, it will be treated as `np.float64 == np.dtype(float).type`.\n",
      "  from ._conv import register_converters as _register_converters\n",
      "Using TensorFlow backend.\n"
     ]
    }
   ],
   "source": [
    "import numpy as np\n",
    "import nilearn as ni\n",
    "from matplotlib import pyplot as plt\n",
    "from nilearn import plotting,image\n",
    "from sklearn.preprocessing import MinMaxScaler,LabelEncoder\n",
    "import pandas as pd\n",
    "from tqdm import tqdm\n",
    "import h5py\n",
    "import os\n",
    "from glob import glob\n",
    "os.environ[\"CUDA_VISIBLE_DEVICES\"]=\"2\"\n",
    "from keras.utils import to_categorical\n",
    "\n",
    "%matplotlib inline"
   ]
  },
  {
   "cell_type": "markdown",
   "metadata": {},
   "source": [
    "# Load Healthy Data"
   ]
  },
  {
   "cell_type": "code",
   "execution_count": 5,
   "metadata": {},
   "outputs": [],
   "source": [
    "path_healthy='E:\\\\Projects\\\\fmri_analysis\\\\Schizophrencx\\\\Healthy'"
   ]
  },
  {
   "cell_type": "code",
   "execution_count": 6,
   "metadata": {},
   "outputs": [],
   "source": [
    "path_schizophrenic='E:\\\\Projects\\\\fmri_analysis\\\\Schizophrencx\\\\Schizophrenic'"
   ]
  },
  {
   "cell_type": "markdown",
   "metadata": {},
   "source": [
    "# Get all .hdr filenames from subdirectories Healthy"
   ]
  },
  {
   "cell_type": "code",
   "execution_count": 7,
   "metadata": {},
   "outputs": [],
   "source": [
    "filenames=[]\n",
    "# lp=[]\n",
    "for x in os.walk(path_healthy):\n",
    "    if 'final' in x[0]:\n",
    "#         lp.append(x[0])\n",
    "        filenames.append(glob(x[0]+'\\\\*.hdr')) \n",
    "        "
   ]
  },
  {
   "cell_type": "code",
   "execution_count": 8,
   "metadata": {},
   "outputs": [],
   "source": [
    "# for i in range(len(filenames)):\n",
    "#     print(len(filenames[i]))"
   ]
  },
  {
   "cell_type": "code",
   "execution_count": 9,
   "metadata": {},
   "outputs": [],
   "source": [
    "data = [image.load_img(filename).get_data() for sub_filenames in filenames for filename in sub_filenames]"
   ]
  },
  {
   "cell_type": "code",
   "execution_count": 10,
   "metadata": {},
   "outputs": [
    {
     "data": {
      "text/plain": [
       "(18900, (53, 63, 46))"
      ]
     },
     "execution_count": 10,
     "metadata": {},
     "output_type": "execute_result"
    }
   ],
   "source": [
    "len(data),data[0].shape"
   ]
  },
  {
   "cell_type": "code",
   "execution_count": 11,
   "metadata": {},
   "outputs": [],
   "source": [
    "data=np.array(data)"
   ]
  },
  {
   "cell_type": "markdown",
   "metadata": {},
   "source": [
    "# Timeseries Schizophrenic healthy"
   ]
  },
  {
   "cell_type": "code",
   "execution_count": 12,
   "metadata": {},
   "outputs": [
    {
     "name": "stderr",
     "output_type": "stream",
     "text": [
      "100%|██████████| 135/135 [00:54<00:00,  2.49it/s]\n"
     ]
    }
   ],
   "source": [
    "l=[]\n",
    "for sub_filenames in tqdm( filenames ):\n",
    "    l.append(image.load_img(sub_filenames).get_data())\n",
    "    \n",
    "    \n",
    "#     for filename in sub_filenames:\n",
    "#         data = [image.load_img(filename).get_data()] "
   ]
  },
  {
   "cell_type": "code",
   "execution_count": 13,
   "metadata": {},
   "outputs": [
    {
     "data": {
      "text/plain": [
       "135"
      ]
     },
     "execution_count": 13,
     "metadata": {},
     "output_type": "execute_result"
    }
   ],
   "source": [
    "len(filenames)"
   ]
  },
  {
   "cell_type": "code",
   "execution_count": 14,
   "metadata": {},
   "outputs": [],
   "source": [
    "l=np.array(l)"
   ]
  },
  {
   "cell_type": "code",
   "execution_count": 15,
   "metadata": {},
   "outputs": [
    {
     "data": {
      "text/plain": [
       "(135, 53, 63, 46, 140)"
      ]
     },
     "execution_count": 15,
     "metadata": {},
     "output_type": "execute_result"
    }
   ],
   "source": [
    "l.shape"
   ]
  },
  {
   "cell_type": "code",
   "execution_count": 16,
   "metadata": {},
   "outputs": [],
   "source": [
    "l=np.rollaxis(l,axis=-1,start=1)"
   ]
  },
  {
   "cell_type": "code",
   "execution_count": 17,
   "metadata": {},
   "outputs": [
    {
     "data": {
      "text/plain": [
       "(135, 140, 53, 63, 46)"
      ]
     },
     "execution_count": 17,
     "metadata": {},
     "output_type": "execute_result"
    }
   ],
   "source": [
    "l.shape"
   ]
  },
  {
   "cell_type": "markdown",
   "metadata": {},
   "source": [
    "# Get all .hdr filenames from subdirectories Schizophrenic"
   ]
  },
  {
   "cell_type": "code",
   "execution_count": 18,
   "metadata": {},
   "outputs": [],
   "source": [
    "filenames_schizophrenic=[]\n",
    "for x in os.walk(path_schizophrenic):\n",
    "    if 'final' in x[0]:\n",
    "        filenames_schizophrenic.append(glob(x[0]+'\\\\*.hdr'))      "
   ]
  },
  {
   "cell_type": "code",
   "execution_count": 19,
   "metadata": {},
   "outputs": [],
   "source": [
    "data_schizophrenic = [image.load_img(filename).get_data() for sub_filenames in filenames_schizophrenic for filename in sub_filenames]"
   ]
  },
  {
   "cell_type": "code",
   "execution_count": 20,
   "metadata": {},
   "outputs": [
    {
     "data": {
      "text/plain": [
       "(19040, (53, 63, 46))"
      ]
     },
     "execution_count": 20,
     "metadata": {},
     "output_type": "execute_result"
    }
   ],
   "source": [
    "len(data_schizophrenic),data_schizophrenic[0].shape"
   ]
  },
  {
   "cell_type": "code",
   "execution_count": 21,
   "metadata": {},
   "outputs": [],
   "source": [
    "data_schizophrenic=np.array(data_schizophrenic)"
   ]
  },
  {
   "cell_type": "code",
   "execution_count": 22,
   "metadata": {},
   "outputs": [
    {
     "data": {
      "text/plain": [
       "(19040, 53, 63, 46)"
      ]
     },
     "execution_count": 22,
     "metadata": {},
     "output_type": "execute_result"
    }
   ],
   "source": [
    "data_schizophrenic.shape"
   ]
  },
  {
   "cell_type": "markdown",
   "metadata": {},
   "source": [
    "# TimeSeries Schizophrenic Schizophrenic data"
   ]
  },
  {
   "cell_type": "code",
   "execution_count": 23,
   "metadata": {},
   "outputs": [
    {
     "name": "stderr",
     "output_type": "stream",
     "text": [
      "100%|██████████| 136/136 [00:55<00:00,  2.45it/s]\n"
     ]
    }
   ],
   "source": [
    "l_schizophrenic=[]\n",
    "for sub_filenames in tqdm(filenames_schizophrenic):\n",
    "    l_schizophrenic.append(image.load_img(sub_filenames).get_data())"
   ]
  },
  {
   "cell_type": "code",
   "execution_count": 24,
   "metadata": {},
   "outputs": [],
   "source": [
    "l_schizophrenic=np.array(l_schizophrenic)"
   ]
  },
  {
   "cell_type": "code",
   "execution_count": 25,
   "metadata": {},
   "outputs": [
    {
     "data": {
      "text/plain": [
       "(136, 53, 63, 46, 140)"
      ]
     },
     "execution_count": 25,
     "metadata": {},
     "output_type": "execute_result"
    }
   ],
   "source": [
    "l_schizophrenic.shape"
   ]
  },
  {
   "cell_type": "code",
   "execution_count": 26,
   "metadata": {},
   "outputs": [],
   "source": [
    "l_schizophrenic=np.rollaxis(l_schizophrenic,axis=-1,start=1)"
   ]
  },
  {
   "cell_type": "code",
   "execution_count": 27,
   "metadata": {},
   "outputs": [
    {
     "data": {
      "text/plain": [
       "(136, 140, 53, 63, 46)"
      ]
     },
     "execution_count": 27,
     "metadata": {},
     "output_type": "execute_result"
    }
   ],
   "source": [
    "l_schizophrenic.shape"
   ]
  },
  {
   "cell_type": "markdown",
   "metadata": {},
   "source": [
    "# Saving Data to file"
   ]
  },
  {
   "cell_type": "code",
   "execution_count": 28,
   "metadata": {},
   "outputs": [],
   "source": [
    "h5_obj=h5py.File('schiz_healthy.h5','w')"
   ]
  },
  {
   "cell_type": "code",
   "execution_count": 29,
   "metadata": {},
   "outputs": [
    {
     "data": {
      "text/plain": [
       "<HDF5 dataset \"healthy\": shape (18900, 53, 63, 46), type \"<i2\">"
      ]
     },
     "execution_count": 29,
     "metadata": {},
     "output_type": "execute_result"
    }
   ],
   "source": [
    "h5_obj.create_dataset('healthy',data=data)"
   ]
  },
  {
   "cell_type": "code",
   "execution_count": 30,
   "metadata": {},
   "outputs": [],
   "source": [
    "h5_obj.close()"
   ]
  },
  {
   "cell_type": "code",
   "execution_count": null,
   "metadata": {},
   "outputs": [],
   "source": []
  },
  {
   "cell_type": "code",
   "execution_count": 31,
   "metadata": {},
   "outputs": [],
   "source": [
    "h5_obj_schizo=h5py.File('schiz_schizo.h5','w')"
   ]
  },
  {
   "cell_type": "code",
   "execution_count": 32,
   "metadata": {},
   "outputs": [
    {
     "data": {
      "text/plain": [
       "<HDF5 dataset \"schizo\": shape (19040, 53, 63, 46), type \"<i2\">"
      ]
     },
     "execution_count": 32,
     "metadata": {},
     "output_type": "execute_result"
    }
   ],
   "source": [
    "h5_obj_schizo.create_dataset('schizo',data=data_schizophrenic)"
   ]
  },
  {
   "cell_type": "code",
   "execution_count": 33,
   "metadata": {},
   "outputs": [],
   "source": [
    "h5_obj_schizo.close()"
   ]
  },
  {
   "cell_type": "markdown",
   "metadata": {},
   "source": [
    "# Saving Timeseries Data"
   ]
  },
  {
   "cell_type": "code",
   "execution_count": 34,
   "metadata": {},
   "outputs": [],
   "source": [
    "h5_obj=h5py.File('schiz_time_healthy.h5','w')"
   ]
  },
  {
   "cell_type": "code",
   "execution_count": 35,
   "metadata": {},
   "outputs": [
    {
     "data": {
      "text/plain": [
       "<HDF5 dataset \"healthy\": shape (135, 140, 53, 63, 46), type \"<i2\">"
      ]
     },
     "execution_count": 35,
     "metadata": {},
     "output_type": "execute_result"
    }
   ],
   "source": [
    "h5_obj.create_dataset('healthy',data=l)"
   ]
  },
  {
   "cell_type": "code",
   "execution_count": 36,
   "metadata": {},
   "outputs": [],
   "source": [
    "h5_obj.close()"
   ]
  },
  {
   "cell_type": "code",
   "execution_count": null,
   "metadata": {},
   "outputs": [],
   "source": []
  },
  {
   "cell_type": "code",
   "execution_count": 37,
   "metadata": {},
   "outputs": [],
   "source": [
    "h5_obj_schizo=h5py.File('schiz_time_schizo.h5','w')"
   ]
  },
  {
   "cell_type": "code",
   "execution_count": 38,
   "metadata": {},
   "outputs": [
    {
     "data": {
      "text/plain": [
       "<HDF5 dataset \"schizo\": shape (136, 140, 53, 63, 46), type \"<i2\">"
      ]
     },
     "execution_count": 38,
     "metadata": {},
     "output_type": "execute_result"
    }
   ],
   "source": [
    "h5_obj_schizo.create_dataset('schizo',data=l_schizophrenic)"
   ]
  },
  {
   "cell_type": "code",
   "execution_count": 39,
   "metadata": {},
   "outputs": [],
   "source": [
    "h5_obj_schizo.close()"
   ]
  },
  {
   "cell_type": "code",
   "execution_count": null,
   "metadata": {},
   "outputs": [],
   "source": []
  },
  {
   "cell_type": "markdown",
   "metadata": {},
   "source": [
    "# load data "
   ]
  },
  {
   "cell_type": "code",
   "execution_count": 40,
   "metadata": {},
   "outputs": [],
   "source": [
    "h5_rd=h5py.File('schiz_healthy.h5','r')"
   ]
  },
  {
   "cell_type": "code",
   "execution_count": 41,
   "metadata": {},
   "outputs": [
    {
     "data": {
      "text/plain": [
       "KeysView(<HDF5 file \"schiz_healthy.h5\" (mode r)>)"
      ]
     },
     "execution_count": 41,
     "metadata": {},
     "output_type": "execute_result"
    }
   ],
   "source": [
    "h5_rd.keys()"
   ]
  },
  {
   "cell_type": "code",
   "execution_count": 42,
   "metadata": {},
   "outputs": [],
   "source": [
    "data_h=np.array(h5_rd['healthy'])"
   ]
  },
  {
   "cell_type": "code",
   "execution_count": 43,
   "metadata": {},
   "outputs": [],
   "source": [
    "h5_rd.close()"
   ]
  },
  {
   "cell_type": "code",
   "execution_count": 44,
   "metadata": {},
   "outputs": [
    {
     "data": {
      "text/plain": [
       "(18900, 53, 63, 46)"
      ]
     },
     "execution_count": 44,
     "metadata": {},
     "output_type": "execute_result"
    }
   ],
   "source": [
    "data_h.shape"
   ]
  },
  {
   "cell_type": "code",
   "execution_count": 45,
   "metadata": {},
   "outputs": [],
   "source": [
    "h5_rd=h5py.File('schiz_schizo.h5','r')"
   ]
  },
  {
   "cell_type": "code",
   "execution_count": 46,
   "metadata": {},
   "outputs": [
    {
     "data": {
      "text/plain": [
       "KeysView(<HDF5 file \"schiz_schizo.h5\" (mode r)>)"
      ]
     },
     "execution_count": 46,
     "metadata": {},
     "output_type": "execute_result"
    }
   ],
   "source": [
    "h5_rd.keys()"
   ]
  },
  {
   "cell_type": "code",
   "execution_count": 47,
   "metadata": {},
   "outputs": [],
   "source": [
    "data_s=np.array(h5_rd['schizo'])"
   ]
  },
  {
   "cell_type": "code",
   "execution_count": 48,
   "metadata": {},
   "outputs": [],
   "source": [
    "h5_rd.close()"
   ]
  },
  {
   "cell_type": "code",
   "execution_count": 49,
   "metadata": {},
   "outputs": [
    {
     "data": {
      "text/plain": [
       "(19040, 53, 63, 46)"
      ]
     },
     "execution_count": 49,
     "metadata": {},
     "output_type": "execute_result"
    }
   ],
   "source": [
    "data_s.shape"
   ]
  },
  {
   "cell_type": "code",
   "execution_count": 50,
   "metadata": {},
   "outputs": [],
   "source": [
    "X=np.append(data_h,data_s,axis=0)"
   ]
  },
  {
   "cell_type": "code",
   "execution_count": 51,
   "metadata": {},
   "outputs": [
    {
     "data": {
      "text/plain": [
       "(37940, 53, 63, 46)"
      ]
     },
     "execution_count": 51,
     "metadata": {},
     "output_type": "execute_result"
    }
   ],
   "source": [
    "X.shape"
   ]
  },
  {
   "cell_type": "code",
   "execution_count": 52,
   "metadata": {},
   "outputs": [],
   "source": [
    "y=np.zeros((X.shape[0]))"
   ]
  },
  {
   "cell_type": "code",
   "execution_count": 53,
   "metadata": {},
   "outputs": [],
   "source": [
    "y[data_h.shape[0]:]=1"
   ]
  },
  {
   "cell_type": "code",
   "execution_count": 54,
   "metadata": {},
   "outputs": [],
   "source": [
    "#one-hot encoding\n",
    "y_encode=to_categorical(y)"
   ]
  },
  {
   "cell_type": "code",
   "execution_count": 55,
   "metadata": {},
   "outputs": [
    {
     "data": {
      "text/plain": [
       "array([[1., 0.],\n",
       "       [1., 0.],\n",
       "       [1., 0.],\n",
       "       ...,\n",
       "       [0., 1.],\n",
       "       [0., 1.],\n",
       "       [0., 1.]], dtype=float32)"
      ]
     },
     "execution_count": 55,
     "metadata": {},
     "output_type": "execute_result"
    }
   ],
   "source": [
    "y_encode"
   ]
  },
  {
   "cell_type": "code",
   "execution_count": null,
   "metadata": {},
   "outputs": [],
   "source": []
  },
  {
   "cell_type": "code",
   "execution_count": null,
   "metadata": {},
   "outputs": [],
   "source": []
  },
  {
   "cell_type": "code",
   "execution_count": 56,
   "metadata": {},
   "outputs": [],
   "source": [
    "path=\"E:\\\\Projects\\\\fmri_analysis\\\\Schizophrencx\\\\000900369824_49_h_f\\\\AudOdd4\\\\final\\\\\""
   ]
  },
  {
   "cell_type": "code",
   "execution_count": 57,
   "metadata": {},
   "outputs": [
    {
     "data": {
      "application/javascript": [
       "/* Put everything inside the global mpl namespace */\n",
       "window.mpl = {};\n",
       "\n",
       "\n",
       "mpl.get_websocket_type = function() {\n",
       "    if (typeof(WebSocket) !== 'undefined') {\n",
       "        return WebSocket;\n",
       "    } else if (typeof(MozWebSocket) !== 'undefined') {\n",
       "        return MozWebSocket;\n",
       "    } else {\n",
       "        alert('Your browser does not have WebSocket support.' +\n",
       "              'Please try Chrome, Safari or Firefox ≥ 6. ' +\n",
       "              'Firefox 4 and 5 are also supported but you ' +\n",
       "              'have to enable WebSockets in about:config.');\n",
       "    };\n",
       "}\n",
       "\n",
       "mpl.figure = function(figure_id, websocket, ondownload, parent_element) {\n",
       "    this.id = figure_id;\n",
       "\n",
       "    this.ws = websocket;\n",
       "\n",
       "    this.supports_binary = (this.ws.binaryType != undefined);\n",
       "\n",
       "    if (!this.supports_binary) {\n",
       "        var warnings = document.getElementById(\"mpl-warnings\");\n",
       "        if (warnings) {\n",
       "            warnings.style.display = 'block';\n",
       "            warnings.textContent = (\n",
       "                \"This browser does not support binary websocket messages. \" +\n",
       "                    \"Performance may be slow.\");\n",
       "        }\n",
       "    }\n",
       "\n",
       "    this.imageObj = new Image();\n",
       "\n",
       "    this.context = undefined;\n",
       "    this.message = undefined;\n",
       "    this.canvas = undefined;\n",
       "    this.rubberband_canvas = undefined;\n",
       "    this.rubberband_context = undefined;\n",
       "    this.format_dropdown = undefined;\n",
       "\n",
       "    this.image_mode = 'full';\n",
       "\n",
       "    this.root = $('<div/>');\n",
       "    this._root_extra_style(this.root)\n",
       "    this.root.attr('style', 'display: inline-block');\n",
       "\n",
       "    $(parent_element).append(this.root);\n",
       "\n",
       "    this._init_header(this);\n",
       "    this._init_canvas(this);\n",
       "    this._init_toolbar(this);\n",
       "\n",
       "    var fig = this;\n",
       "\n",
       "    this.waiting = false;\n",
       "\n",
       "    this.ws.onopen =  function () {\n",
       "            fig.send_message(\"supports_binary\", {value: fig.supports_binary});\n",
       "            fig.send_message(\"send_image_mode\", {});\n",
       "            if (mpl.ratio != 1) {\n",
       "                fig.send_message(\"set_dpi_ratio\", {'dpi_ratio': mpl.ratio});\n",
       "            }\n",
       "            fig.send_message(\"refresh\", {});\n",
       "        }\n",
       "\n",
       "    this.imageObj.onload = function() {\n",
       "            if (fig.image_mode == 'full') {\n",
       "                // Full images could contain transparency (where diff images\n",
       "                // almost always do), so we need to clear the canvas so that\n",
       "                // there is no ghosting.\n",
       "                fig.context.clearRect(0, 0, fig.canvas.width, fig.canvas.height);\n",
       "            }\n",
       "            fig.context.drawImage(fig.imageObj, 0, 0);\n",
       "        };\n",
       "\n",
       "    this.imageObj.onunload = function() {\n",
       "        fig.ws.close();\n",
       "    }\n",
       "\n",
       "    this.ws.onmessage = this._make_on_message_function(this);\n",
       "\n",
       "    this.ondownload = ondownload;\n",
       "}\n",
       "\n",
       "mpl.figure.prototype._init_header = function() {\n",
       "    var titlebar = $(\n",
       "        '<div class=\"ui-dialog-titlebar ui-widget-header ui-corner-all ' +\n",
       "        'ui-helper-clearfix\"/>');\n",
       "    var titletext = $(\n",
       "        '<div class=\"ui-dialog-title\" style=\"width: 100%; ' +\n",
       "        'text-align: center; padding: 3px;\"/>');\n",
       "    titlebar.append(titletext)\n",
       "    this.root.append(titlebar);\n",
       "    this.header = titletext[0];\n",
       "}\n",
       "\n",
       "\n",
       "\n",
       "mpl.figure.prototype._canvas_extra_style = function(canvas_div) {\n",
       "\n",
       "}\n",
       "\n",
       "\n",
       "mpl.figure.prototype._root_extra_style = function(canvas_div) {\n",
       "\n",
       "}\n",
       "\n",
       "mpl.figure.prototype._init_canvas = function() {\n",
       "    var fig = this;\n",
       "\n",
       "    var canvas_div = $('<div/>');\n",
       "\n",
       "    canvas_div.attr('style', 'position: relative; clear: both; outline: 0');\n",
       "\n",
       "    function canvas_keyboard_event(event) {\n",
       "        return fig.key_event(event, event['data']);\n",
       "    }\n",
       "\n",
       "    canvas_div.keydown('key_press', canvas_keyboard_event);\n",
       "    canvas_div.keyup('key_release', canvas_keyboard_event);\n",
       "    this.canvas_div = canvas_div\n",
       "    this._canvas_extra_style(canvas_div)\n",
       "    this.root.append(canvas_div);\n",
       "\n",
       "    var canvas = $('<canvas/>');\n",
       "    canvas.addClass('mpl-canvas');\n",
       "    canvas.attr('style', \"left: 0; top: 0; z-index: 0; outline: 0\")\n",
       "\n",
       "    this.canvas = canvas[0];\n",
       "    this.context = canvas[0].getContext(\"2d\");\n",
       "\n",
       "    var backingStore = this.context.backingStorePixelRatio ||\n",
       "\tthis.context.webkitBackingStorePixelRatio ||\n",
       "\tthis.context.mozBackingStorePixelRatio ||\n",
       "\tthis.context.msBackingStorePixelRatio ||\n",
       "\tthis.context.oBackingStorePixelRatio ||\n",
       "\tthis.context.backingStorePixelRatio || 1;\n",
       "\n",
       "    mpl.ratio = (window.devicePixelRatio || 1) / backingStore;\n",
       "\n",
       "    var rubberband = $('<canvas/>');\n",
       "    rubberband.attr('style', \"position: absolute; left: 0; top: 0; z-index: 1;\")\n",
       "\n",
       "    var pass_mouse_events = true;\n",
       "\n",
       "    canvas_div.resizable({\n",
       "        start: function(event, ui) {\n",
       "            pass_mouse_events = false;\n",
       "        },\n",
       "        resize: function(event, ui) {\n",
       "            fig.request_resize(ui.size.width, ui.size.height);\n",
       "        },\n",
       "        stop: function(event, ui) {\n",
       "            pass_mouse_events = true;\n",
       "            fig.request_resize(ui.size.width, ui.size.height);\n",
       "        },\n",
       "    });\n",
       "\n",
       "    function mouse_event_fn(event) {\n",
       "        if (pass_mouse_events)\n",
       "            return fig.mouse_event(event, event['data']);\n",
       "    }\n",
       "\n",
       "    rubberband.mousedown('button_press', mouse_event_fn);\n",
       "    rubberband.mouseup('button_release', mouse_event_fn);\n",
       "    // Throttle sequential mouse events to 1 every 20ms.\n",
       "    rubberband.mousemove('motion_notify', mouse_event_fn);\n",
       "\n",
       "    rubberband.mouseenter('figure_enter', mouse_event_fn);\n",
       "    rubberband.mouseleave('figure_leave', mouse_event_fn);\n",
       "\n",
       "    canvas_div.on(\"wheel\", function (event) {\n",
       "        event = event.originalEvent;\n",
       "        event['data'] = 'scroll'\n",
       "        if (event.deltaY < 0) {\n",
       "            event.step = 1;\n",
       "        } else {\n",
       "            event.step = -1;\n",
       "        }\n",
       "        mouse_event_fn(event);\n",
       "    });\n",
       "\n",
       "    canvas_div.append(canvas);\n",
       "    canvas_div.append(rubberband);\n",
       "\n",
       "    this.rubberband = rubberband;\n",
       "    this.rubberband_canvas = rubberband[0];\n",
       "    this.rubberband_context = rubberband[0].getContext(\"2d\");\n",
       "    this.rubberband_context.strokeStyle = \"#000000\";\n",
       "\n",
       "    this._resize_canvas = function(width, height) {\n",
       "        // Keep the size of the canvas, canvas container, and rubber band\n",
       "        // canvas in synch.\n",
       "        canvas_div.css('width', width)\n",
       "        canvas_div.css('height', height)\n",
       "\n",
       "        canvas.attr('width', width * mpl.ratio);\n",
       "        canvas.attr('height', height * mpl.ratio);\n",
       "        canvas.attr('style', 'width: ' + width + 'px; height: ' + height + 'px;');\n",
       "\n",
       "        rubberband.attr('width', width);\n",
       "        rubberband.attr('height', height);\n",
       "    }\n",
       "\n",
       "    // Set the figure to an initial 600x600px, this will subsequently be updated\n",
       "    // upon first draw.\n",
       "    this._resize_canvas(600, 600);\n",
       "\n",
       "    // Disable right mouse context menu.\n",
       "    $(this.rubberband_canvas).bind(\"contextmenu\",function(e){\n",
       "        return false;\n",
       "    });\n",
       "\n",
       "    function set_focus () {\n",
       "        canvas.focus();\n",
       "        canvas_div.focus();\n",
       "    }\n",
       "\n",
       "    window.setTimeout(set_focus, 100);\n",
       "}\n",
       "\n",
       "mpl.figure.prototype._init_toolbar = function() {\n",
       "    var fig = this;\n",
       "\n",
       "    var nav_element = $('<div/>')\n",
       "    nav_element.attr('style', 'width: 100%');\n",
       "    this.root.append(nav_element);\n",
       "\n",
       "    // Define a callback function for later on.\n",
       "    function toolbar_event(event) {\n",
       "        return fig.toolbar_button_onclick(event['data']);\n",
       "    }\n",
       "    function toolbar_mouse_event(event) {\n",
       "        return fig.toolbar_button_onmouseover(event['data']);\n",
       "    }\n",
       "\n",
       "    for(var toolbar_ind in mpl.toolbar_items) {\n",
       "        var name = mpl.toolbar_items[toolbar_ind][0];\n",
       "        var tooltip = mpl.toolbar_items[toolbar_ind][1];\n",
       "        var image = mpl.toolbar_items[toolbar_ind][2];\n",
       "        var method_name = mpl.toolbar_items[toolbar_ind][3];\n",
       "\n",
       "        if (!name) {\n",
       "            // put a spacer in here.\n",
       "            continue;\n",
       "        }\n",
       "        var button = $('<button/>');\n",
       "        button.addClass('ui-button ui-widget ui-state-default ui-corner-all ' +\n",
       "                        'ui-button-icon-only');\n",
       "        button.attr('role', 'button');\n",
       "        button.attr('aria-disabled', 'false');\n",
       "        button.click(method_name, toolbar_event);\n",
       "        button.mouseover(tooltip, toolbar_mouse_event);\n",
       "\n",
       "        var icon_img = $('<span/>');\n",
       "        icon_img.addClass('ui-button-icon-primary ui-icon');\n",
       "        icon_img.addClass(image);\n",
       "        icon_img.addClass('ui-corner-all');\n",
       "\n",
       "        var tooltip_span = $('<span/>');\n",
       "        tooltip_span.addClass('ui-button-text');\n",
       "        tooltip_span.html(tooltip);\n",
       "\n",
       "        button.append(icon_img);\n",
       "        button.append(tooltip_span);\n",
       "\n",
       "        nav_element.append(button);\n",
       "    }\n",
       "\n",
       "    var fmt_picker_span = $('<span/>');\n",
       "\n",
       "    var fmt_picker = $('<select/>');\n",
       "    fmt_picker.addClass('mpl-toolbar-option ui-widget ui-widget-content');\n",
       "    fmt_picker_span.append(fmt_picker);\n",
       "    nav_element.append(fmt_picker_span);\n",
       "    this.format_dropdown = fmt_picker[0];\n",
       "\n",
       "    for (var ind in mpl.extensions) {\n",
       "        var fmt = mpl.extensions[ind];\n",
       "        var option = $(\n",
       "            '<option/>', {selected: fmt === mpl.default_extension}).html(fmt);\n",
       "        fmt_picker.append(option)\n",
       "    }\n",
       "\n",
       "    // Add hover states to the ui-buttons\n",
       "    $( \".ui-button\" ).hover(\n",
       "        function() { $(this).addClass(\"ui-state-hover\");},\n",
       "        function() { $(this).removeClass(\"ui-state-hover\");}\n",
       "    );\n",
       "\n",
       "    var status_bar = $('<span class=\"mpl-message\"/>');\n",
       "    nav_element.append(status_bar);\n",
       "    this.message = status_bar[0];\n",
       "}\n",
       "\n",
       "mpl.figure.prototype.request_resize = function(x_pixels, y_pixels) {\n",
       "    // Request matplotlib to resize the figure. Matplotlib will then trigger a resize in the client,\n",
       "    // which will in turn request a refresh of the image.\n",
       "    this.send_message('resize', {'width': x_pixels, 'height': y_pixels});\n",
       "}\n",
       "\n",
       "mpl.figure.prototype.send_message = function(type, properties) {\n",
       "    properties['type'] = type;\n",
       "    properties['figure_id'] = this.id;\n",
       "    this.ws.send(JSON.stringify(properties));\n",
       "}\n",
       "\n",
       "mpl.figure.prototype.send_draw_message = function() {\n",
       "    if (!this.waiting) {\n",
       "        this.waiting = true;\n",
       "        this.ws.send(JSON.stringify({type: \"draw\", figure_id: this.id}));\n",
       "    }\n",
       "}\n",
       "\n",
       "\n",
       "mpl.figure.prototype.handle_save = function(fig, msg) {\n",
       "    var format_dropdown = fig.format_dropdown;\n",
       "    var format = format_dropdown.options[format_dropdown.selectedIndex].value;\n",
       "    fig.ondownload(fig, format);\n",
       "}\n",
       "\n",
       "\n",
       "mpl.figure.prototype.handle_resize = function(fig, msg) {\n",
       "    var size = msg['size'];\n",
       "    if (size[0] != fig.canvas.width || size[1] != fig.canvas.height) {\n",
       "        fig._resize_canvas(size[0], size[1]);\n",
       "        fig.send_message(\"refresh\", {});\n",
       "    };\n",
       "}\n",
       "\n",
       "mpl.figure.prototype.handle_rubberband = function(fig, msg) {\n",
       "    var x0 = msg['x0'] / mpl.ratio;\n",
       "    var y0 = (fig.canvas.height - msg['y0']) / mpl.ratio;\n",
       "    var x1 = msg['x1'] / mpl.ratio;\n",
       "    var y1 = (fig.canvas.height - msg['y1']) / mpl.ratio;\n",
       "    x0 = Math.floor(x0) + 0.5;\n",
       "    y0 = Math.floor(y0) + 0.5;\n",
       "    x1 = Math.floor(x1) + 0.5;\n",
       "    y1 = Math.floor(y1) + 0.5;\n",
       "    var min_x = Math.min(x0, x1);\n",
       "    var min_y = Math.min(y0, y1);\n",
       "    var width = Math.abs(x1 - x0);\n",
       "    var height = Math.abs(y1 - y0);\n",
       "\n",
       "    fig.rubberband_context.clearRect(\n",
       "        0, 0, fig.canvas.width, fig.canvas.height);\n",
       "\n",
       "    fig.rubberband_context.strokeRect(min_x, min_y, width, height);\n",
       "}\n",
       "\n",
       "mpl.figure.prototype.handle_figure_label = function(fig, msg) {\n",
       "    // Updates the figure title.\n",
       "    fig.header.textContent = msg['label'];\n",
       "}\n",
       "\n",
       "mpl.figure.prototype.handle_cursor = function(fig, msg) {\n",
       "    var cursor = msg['cursor'];\n",
       "    switch(cursor)\n",
       "    {\n",
       "    case 0:\n",
       "        cursor = 'pointer';\n",
       "        break;\n",
       "    case 1:\n",
       "        cursor = 'default';\n",
       "        break;\n",
       "    case 2:\n",
       "        cursor = 'crosshair';\n",
       "        break;\n",
       "    case 3:\n",
       "        cursor = 'move';\n",
       "        break;\n",
       "    }\n",
       "    fig.rubberband_canvas.style.cursor = cursor;\n",
       "}\n",
       "\n",
       "mpl.figure.prototype.handle_message = function(fig, msg) {\n",
       "    fig.message.textContent = msg['message'];\n",
       "}\n",
       "\n",
       "mpl.figure.prototype.handle_draw = function(fig, msg) {\n",
       "    // Request the server to send over a new figure.\n",
       "    fig.send_draw_message();\n",
       "}\n",
       "\n",
       "mpl.figure.prototype.handle_image_mode = function(fig, msg) {\n",
       "    fig.image_mode = msg['mode'];\n",
       "}\n",
       "\n",
       "mpl.figure.prototype.updated_canvas_event = function() {\n",
       "    // Called whenever the canvas gets updated.\n",
       "    this.send_message(\"ack\", {});\n",
       "}\n",
       "\n",
       "// A function to construct a web socket function for onmessage handling.\n",
       "// Called in the figure constructor.\n",
       "mpl.figure.prototype._make_on_message_function = function(fig) {\n",
       "    return function socket_on_message(evt) {\n",
       "        if (evt.data instanceof Blob) {\n",
       "            /* FIXME: We get \"Resource interpreted as Image but\n",
       "             * transferred with MIME type text/plain:\" errors on\n",
       "             * Chrome.  But how to set the MIME type?  It doesn't seem\n",
       "             * to be part of the websocket stream */\n",
       "            evt.data.type = \"image/png\";\n",
       "\n",
       "            /* Free the memory for the previous frames */\n",
       "            if (fig.imageObj.src) {\n",
       "                (window.URL || window.webkitURL).revokeObjectURL(\n",
       "                    fig.imageObj.src);\n",
       "            }\n",
       "\n",
       "            fig.imageObj.src = (window.URL || window.webkitURL).createObjectURL(\n",
       "                evt.data);\n",
       "            fig.updated_canvas_event();\n",
       "            fig.waiting = false;\n",
       "            return;\n",
       "        }\n",
       "        else if (typeof evt.data === 'string' && evt.data.slice(0, 21) == \"data:image/png;base64\") {\n",
       "            fig.imageObj.src = evt.data;\n",
       "            fig.updated_canvas_event();\n",
       "            fig.waiting = false;\n",
       "            return;\n",
       "        }\n",
       "\n",
       "        var msg = JSON.parse(evt.data);\n",
       "        var msg_type = msg['type'];\n",
       "\n",
       "        // Call the  \"handle_{type}\" callback, which takes\n",
       "        // the figure and JSON message as its only arguments.\n",
       "        try {\n",
       "            var callback = fig[\"handle_\" + msg_type];\n",
       "        } catch (e) {\n",
       "            console.log(\"No handler for the '\" + msg_type + \"' message type: \", msg);\n",
       "            return;\n",
       "        }\n",
       "\n",
       "        if (callback) {\n",
       "            try {\n",
       "                // console.log(\"Handling '\" + msg_type + \"' message: \", msg);\n",
       "                callback(fig, msg);\n",
       "            } catch (e) {\n",
       "                console.log(\"Exception inside the 'handler_\" + msg_type + \"' callback:\", e, e.stack, msg);\n",
       "            }\n",
       "        }\n",
       "    };\n",
       "}\n",
       "\n",
       "// from http://stackoverflow.com/questions/1114465/getting-mouse-location-in-canvas\n",
       "mpl.findpos = function(e) {\n",
       "    //this section is from http://www.quirksmode.org/js/events_properties.html\n",
       "    var targ;\n",
       "    if (!e)\n",
       "        e = window.event;\n",
       "    if (e.target)\n",
       "        targ = e.target;\n",
       "    else if (e.srcElement)\n",
       "        targ = e.srcElement;\n",
       "    if (targ.nodeType == 3) // defeat Safari bug\n",
       "        targ = targ.parentNode;\n",
       "\n",
       "    // jQuery normalizes the pageX and pageY\n",
       "    // pageX,Y are the mouse positions relative to the document\n",
       "    // offset() returns the position of the element relative to the document\n",
       "    var x = e.pageX - $(targ).offset().left;\n",
       "    var y = e.pageY - $(targ).offset().top;\n",
       "\n",
       "    return {\"x\": x, \"y\": y};\n",
       "};\n",
       "\n",
       "/*\n",
       " * return a copy of an object with only non-object keys\n",
       " * we need this to avoid circular references\n",
       " * http://stackoverflow.com/a/24161582/3208463\n",
       " */\n",
       "function simpleKeys (original) {\n",
       "  return Object.keys(original).reduce(function (obj, key) {\n",
       "    if (typeof original[key] !== 'object')\n",
       "        obj[key] = original[key]\n",
       "    return obj;\n",
       "  }, {});\n",
       "}\n",
       "\n",
       "mpl.figure.prototype.mouse_event = function(event, name) {\n",
       "    var canvas_pos = mpl.findpos(event)\n",
       "\n",
       "    if (name === 'button_press')\n",
       "    {\n",
       "        this.canvas.focus();\n",
       "        this.canvas_div.focus();\n",
       "    }\n",
       "\n",
       "    var x = canvas_pos.x * mpl.ratio;\n",
       "    var y = canvas_pos.y * mpl.ratio;\n",
       "\n",
       "    this.send_message(name, {x: x, y: y, button: event.button,\n",
       "                             step: event.step,\n",
       "                             guiEvent: simpleKeys(event)});\n",
       "\n",
       "    /* This prevents the web browser from automatically changing to\n",
       "     * the text insertion cursor when the button is pressed.  We want\n",
       "     * to control all of the cursor setting manually through the\n",
       "     * 'cursor' event from matplotlib */\n",
       "    event.preventDefault();\n",
       "    return false;\n",
       "}\n",
       "\n",
       "mpl.figure.prototype._key_event_extra = function(event, name) {\n",
       "    // Handle any extra behaviour associated with a key event\n",
       "}\n",
       "\n",
       "mpl.figure.prototype.key_event = function(event, name) {\n",
       "\n",
       "    // Prevent repeat events\n",
       "    if (name == 'key_press')\n",
       "    {\n",
       "        if (event.which === this._key)\n",
       "            return;\n",
       "        else\n",
       "            this._key = event.which;\n",
       "    }\n",
       "    if (name == 'key_release')\n",
       "        this._key = null;\n",
       "\n",
       "    var value = '';\n",
       "    if (event.ctrlKey && event.which != 17)\n",
       "        value += \"ctrl+\";\n",
       "    if (event.altKey && event.which != 18)\n",
       "        value += \"alt+\";\n",
       "    if (event.shiftKey && event.which != 16)\n",
       "        value += \"shift+\";\n",
       "\n",
       "    value += 'k';\n",
       "    value += event.which.toString();\n",
       "\n",
       "    this._key_event_extra(event, name);\n",
       "\n",
       "    this.send_message(name, {key: value,\n",
       "                             guiEvent: simpleKeys(event)});\n",
       "    return false;\n",
       "}\n",
       "\n",
       "mpl.figure.prototype.toolbar_button_onclick = function(name) {\n",
       "    if (name == 'download') {\n",
       "        this.handle_save(this, null);\n",
       "    } else {\n",
       "        this.send_message(\"toolbar_button\", {name: name});\n",
       "    }\n",
       "};\n",
       "\n",
       "mpl.figure.prototype.toolbar_button_onmouseover = function(tooltip) {\n",
       "    this.message.textContent = tooltip;\n",
       "};\n",
       "mpl.toolbar_items = [[\"Home\", \"Reset original view\", \"fa fa-home icon-home\", \"home\"], [\"Back\", \"Back to  previous view\", \"fa fa-arrow-left icon-arrow-left\", \"back\"], [\"Forward\", \"Forward to next view\", \"fa fa-arrow-right icon-arrow-right\", \"forward\"], [\"\", \"\", \"\", \"\"], [\"Pan\", \"Pan axes with left mouse, zoom with right\", \"fa fa-arrows icon-move\", \"pan\"], [\"Zoom\", \"Zoom to rectangle\", \"fa fa-square-o icon-check-empty\", \"zoom\"], [\"\", \"\", \"\", \"\"], [\"Download\", \"Download plot\", \"fa fa-floppy-o icon-save\", \"download\"]];\n",
       "\n",
       "mpl.extensions = [\"eps\", \"jpeg\", \"pdf\", \"png\", \"ps\", \"raw\", \"svg\", \"tif\"];\n",
       "\n",
       "mpl.default_extension = \"png\";var comm_websocket_adapter = function(comm) {\n",
       "    // Create a \"websocket\"-like object which calls the given IPython comm\n",
       "    // object with the appropriate methods. Currently this is a non binary\n",
       "    // socket, so there is still some room for performance tuning.\n",
       "    var ws = {};\n",
       "\n",
       "    ws.close = function() {\n",
       "        comm.close()\n",
       "    };\n",
       "    ws.send = function(m) {\n",
       "        //console.log('sending', m);\n",
       "        comm.send(m);\n",
       "    };\n",
       "    // Register the callback with on_msg.\n",
       "    comm.on_msg(function(msg) {\n",
       "        //console.log('receiving', msg['content']['data'], msg);\n",
       "        // Pass the mpl event to the overridden (by mpl) onmessage function.\n",
       "        ws.onmessage(msg['content']['data'])\n",
       "    });\n",
       "    return ws;\n",
       "}\n",
       "\n",
       "mpl.mpl_figure_comm = function(comm, msg) {\n",
       "    // This is the function which gets called when the mpl process\n",
       "    // starts-up an IPython Comm through the \"matplotlib\" channel.\n",
       "\n",
       "    var id = msg.content.data.id;\n",
       "    // Get hold of the div created by the display call when the Comm\n",
       "    // socket was opened in Python.\n",
       "    var element = $(\"#\" + id);\n",
       "    var ws_proxy = comm_websocket_adapter(comm)\n",
       "\n",
       "    function ondownload(figure, format) {\n",
       "        window.open(figure.imageObj.src);\n",
       "    }\n",
       "\n",
       "    var fig = new mpl.figure(id, ws_proxy,\n",
       "                           ondownload,\n",
       "                           element.get(0));\n",
       "\n",
       "    // Call onopen now - mpl needs it, as it is assuming we've passed it a real\n",
       "    // web socket which is closed, not our websocket->open comm proxy.\n",
       "    ws_proxy.onopen();\n",
       "\n",
       "    fig.parent_element = element.get(0);\n",
       "    fig.cell_info = mpl.find_output_cell(\"<div id='\" + id + \"'></div>\");\n",
       "    if (!fig.cell_info) {\n",
       "        console.error(\"Failed to find cell for figure\", id, fig);\n",
       "        return;\n",
       "    }\n",
       "\n",
       "    var output_index = fig.cell_info[2]\n",
       "    var cell = fig.cell_info[0];\n",
       "\n",
       "};\n",
       "\n",
       "mpl.figure.prototype.handle_close = function(fig, msg) {\n",
       "    var width = fig.canvas.width/mpl.ratio\n",
       "    fig.root.unbind('remove')\n",
       "\n",
       "    // Update the output cell to use the data from the current canvas.\n",
       "    fig.push_to_output();\n",
       "    var dataURL = fig.canvas.toDataURL();\n",
       "    // Re-enable the keyboard manager in IPython - without this line, in FF,\n",
       "    // the notebook keyboard shortcuts fail.\n",
       "    IPython.keyboard_manager.enable()\n",
       "    $(fig.parent_element).html('<img src=\"' + dataURL + '\" width=\"' + width + '\">');\n",
       "    fig.close_ws(fig, msg);\n",
       "}\n",
       "\n",
       "mpl.figure.prototype.close_ws = function(fig, msg){\n",
       "    fig.send_message('closing', msg);\n",
       "    // fig.ws.close()\n",
       "}\n",
       "\n",
       "mpl.figure.prototype.push_to_output = function(remove_interactive) {\n",
       "    // Turn the data on the canvas into data in the output cell.\n",
       "    var width = this.canvas.width/mpl.ratio\n",
       "    var dataURL = this.canvas.toDataURL();\n",
       "    this.cell_info[1]['text/html'] = '<img src=\"' + dataURL + '\" width=\"' + width + '\">';\n",
       "}\n",
       "\n",
       "mpl.figure.prototype.updated_canvas_event = function() {\n",
       "    // Tell IPython that the notebook contents must change.\n",
       "    IPython.notebook.set_dirty(true);\n",
       "    this.send_message(\"ack\", {});\n",
       "    var fig = this;\n",
       "    // Wait a second, then push the new image to the DOM so\n",
       "    // that it is saved nicely (might be nice to debounce this).\n",
       "    setTimeout(function () { fig.push_to_output() }, 1000);\n",
       "}\n",
       "\n",
       "mpl.figure.prototype._init_toolbar = function() {\n",
       "    var fig = this;\n",
       "\n",
       "    var nav_element = $('<div/>')\n",
       "    nav_element.attr('style', 'width: 100%');\n",
       "    this.root.append(nav_element);\n",
       "\n",
       "    // Define a callback function for later on.\n",
       "    function toolbar_event(event) {\n",
       "        return fig.toolbar_button_onclick(event['data']);\n",
       "    }\n",
       "    function toolbar_mouse_event(event) {\n",
       "        return fig.toolbar_button_onmouseover(event['data']);\n",
       "    }\n",
       "\n",
       "    for(var toolbar_ind in mpl.toolbar_items){\n",
       "        var name = mpl.toolbar_items[toolbar_ind][0];\n",
       "        var tooltip = mpl.toolbar_items[toolbar_ind][1];\n",
       "        var image = mpl.toolbar_items[toolbar_ind][2];\n",
       "        var method_name = mpl.toolbar_items[toolbar_ind][3];\n",
       "\n",
       "        if (!name) { continue; };\n",
       "\n",
       "        var button = $('<button class=\"btn btn-default\" href=\"#\" title=\"' + name + '\"><i class=\"fa ' + image + ' fa-lg\"></i></button>');\n",
       "        button.click(method_name, toolbar_event);\n",
       "        button.mouseover(tooltip, toolbar_mouse_event);\n",
       "        nav_element.append(button);\n",
       "    }\n",
       "\n",
       "    // Add the status bar.\n",
       "    var status_bar = $('<span class=\"mpl-message\" style=\"text-align:right; float: right;\"/>');\n",
       "    nav_element.append(status_bar);\n",
       "    this.message = status_bar[0];\n",
       "\n",
       "    // Add the close button to the window.\n",
       "    var buttongrp = $('<div class=\"btn-group inline pull-right\"></div>');\n",
       "    var button = $('<button class=\"btn btn-mini btn-primary\" href=\"#\" title=\"Stop Interaction\"><i class=\"fa fa-power-off icon-remove icon-large\"></i></button>');\n",
       "    button.click(function (evt) { fig.handle_close(fig, {}); } );\n",
       "    button.mouseover('Stop Interaction', toolbar_mouse_event);\n",
       "    buttongrp.append(button);\n",
       "    var titlebar = this.root.find($('.ui-dialog-titlebar'));\n",
       "    titlebar.prepend(buttongrp);\n",
       "}\n",
       "\n",
       "mpl.figure.prototype._root_extra_style = function(el){\n",
       "    var fig = this\n",
       "    el.on(\"remove\", function(){\n",
       "\tfig.close_ws(fig, {});\n",
       "    });\n",
       "}\n",
       "\n",
       "mpl.figure.prototype._canvas_extra_style = function(el){\n",
       "    // this is important to make the div 'focusable\n",
       "    el.attr('tabindex', 0)\n",
       "    // reach out to IPython and tell the keyboard manager to turn it's self\n",
       "    // off when our div gets focus\n",
       "\n",
       "    // location in version 3\n",
       "    if (IPython.notebook.keyboard_manager) {\n",
       "        IPython.notebook.keyboard_manager.register_events(el);\n",
       "    }\n",
       "    else {\n",
       "        // location in version 2\n",
       "        IPython.keyboard_manager.register_events(el);\n",
       "    }\n",
       "\n",
       "}\n",
       "\n",
       "mpl.figure.prototype._key_event_extra = function(event, name) {\n",
       "    var manager = IPython.notebook.keyboard_manager;\n",
       "    if (!manager)\n",
       "        manager = IPython.keyboard_manager;\n",
       "\n",
       "    // Check for shift+enter\n",
       "    if (event.shiftKey && event.which == 13) {\n",
       "        this.canvas_div.blur();\n",
       "        event.shiftKey = false;\n",
       "        // Send a \"J\" for go to next cell\n",
       "        event.which = 74;\n",
       "        event.keyCode = 74;\n",
       "        manager.command_mode();\n",
       "        manager.handle_keydown(event);\n",
       "    }\n",
       "}\n",
       "\n",
       "mpl.figure.prototype.handle_save = function(fig, msg) {\n",
       "    fig.ondownload(fig, null);\n",
       "}\n",
       "\n",
       "\n",
       "mpl.find_output_cell = function(html_output) {\n",
       "    // Return the cell and output element which can be found *uniquely* in the notebook.\n",
       "    // Note - this is a bit hacky, but it is done because the \"notebook_saving.Notebook\"\n",
       "    // IPython event is triggered only after the cells have been serialised, which for\n",
       "    // our purposes (turning an active figure into a static one), is too late.\n",
       "    var cells = IPython.notebook.get_cells();\n",
       "    var ncells = cells.length;\n",
       "    for (var i=0; i<ncells; i++) {\n",
       "        var cell = cells[i];\n",
       "        if (cell.cell_type === 'code'){\n",
       "            for (var j=0; j<cell.output_area.outputs.length; j++) {\n",
       "                var data = cell.output_area.outputs[j];\n",
       "                if (data.data) {\n",
       "                    // IPython >= 3 moved mimebundle to data attribute of output\n",
       "                    data = data.data;\n",
       "                }\n",
       "                if (data['text/html'] == html_output) {\n",
       "                    return [cell, data, j];\n",
       "                }\n",
       "            }\n",
       "        }\n",
       "    }\n",
       "}\n",
       "\n",
       "// Register the function which deals with the matplotlib target/channel.\n",
       "// The kernel may be null if the page has been refreshed.\n",
       "if (IPython.notebook.kernel != null) {\n",
       "    IPython.notebook.kernel.comm_manager.register_target('matplotlib', mpl.mpl_figure_comm);\n",
       "}\n"
      ],
      "text/plain": [
       "<IPython.core.display.Javascript object>"
      ]
     },
     "metadata": {},
     "output_type": "display_data"
    },
    {
     "data": {
      "text/html": [
       "<div id='84f376ba-52b1-42c1-921e-8d0ea626f532'></div>"
      ],
      "text/plain": [
       "<IPython.core.display.HTML object>"
      ]
     },
     "metadata": {},
     "output_type": "display_data"
    },
    {
     "data": {
      "text/plain": [
       "<nilearn.plotting.displays.OrthoSlicer at 0x2a1bff81a90>"
      ]
     },
     "execution_count": 57,
     "metadata": {},
     "output_type": "execute_result"
    }
   ],
   "source": [
    "plotting.plot_img(image.load_img(path+\"swarf0004.img\"))"
   ]
  },
  {
   "cell_type": "markdown",
   "metadata": {},
   "source": [
    "# Importing required libraries (Keras framework)"
   ]
  },
  {
   "cell_type": "code",
   "execution_count": 58,
   "metadata": {},
   "outputs": [],
   "source": [
    "from keras.models import Sequential,Model\n",
    "from keras.layers import Input,Conv3D, UpSampling3D, MaxPooling3D\n",
    "from keras.optimizers import Adam, SGD, Adadelta, RMSprop, Nadam\n",
    "from keras.utils import multi_gpu_model"
   ]
  },
  {
   "cell_type": "markdown",
   "metadata": {},
   "source": [
    "# Constructing Convolutional Autoencoder"
   ]
  },
  {
   "cell_type": "code",
   "execution_count": 59,
   "metadata": {},
   "outputs": [],
   "source": [
    "#model = Sequential()\n",
    "input_img=Input(shape=(52,63,45,1))\n",
    "#input_img = Input(shape=(53,63,46,1))\n",
    "\n",
    "#Encoder\n",
    "x=Conv3D(8,(3,3,3),padding='same',activation = 'relu')(input_img)\n",
    "x=MaxPooling3D((2,3,3))(x)\n",
    "x=Conv3D(8,(3,3,3),padding='same',activation = 'relu')(x)\n",
    "encoded=MaxPooling3D((2,3,3),padding = 'same')(x)\n",
    "\n",
    "#Decoder\n",
    "x=Conv3D(8,(3,3,3),padding='same',activation = 'relu')(encoded)\n",
    "x=UpSampling3D((2,3,3))(x)\n",
    "x=Conv3D(8,(3,3,3),padding='same',activation = 'relu')(x)\n",
    "x=UpSampling3D((2,3,3))(x)\n",
    "decoded=Conv3D(1,(2,2,2),padding='same')(x)\n",
    "\n",
    "autoencoder=Model(input_img,decoded)"
   ]
  },
  {
   "cell_type": "code",
   "execution_count": 60,
   "metadata": {},
   "outputs": [
    {
     "name": "stdout",
     "output_type": "stream",
     "text": [
      "_________________________________________________________________\n",
      "Layer (type)                 Output Shape              Param #   \n",
      "=================================================================\n",
      "input_1 (InputLayer)         (None, 52, 63, 45, 1)     0         \n",
      "_________________________________________________________________\n",
      "conv3d_1 (Conv3D)            (None, 52, 63, 45, 8)     224       \n",
      "_________________________________________________________________\n",
      "max_pooling3d_1 (MaxPooling3 (None, 26, 21, 15, 8)     0         \n",
      "_________________________________________________________________\n",
      "conv3d_2 (Conv3D)            (None, 26, 21, 15, 8)     1736      \n",
      "_________________________________________________________________\n",
      "max_pooling3d_2 (MaxPooling3 (None, 13, 7, 5, 8)       0         \n",
      "_________________________________________________________________\n",
      "conv3d_3 (Conv3D)            (None, 13, 7, 5, 8)       1736      \n",
      "_________________________________________________________________\n",
      "up_sampling3d_1 (UpSampling3 (None, 26, 21, 15, 8)     0         \n",
      "_________________________________________________________________\n",
      "conv3d_4 (Conv3D)            (None, 26, 21, 15, 8)     1736      \n",
      "_________________________________________________________________\n",
      "up_sampling3d_2 (UpSampling3 (None, 52, 63, 45, 8)     0         \n",
      "_________________________________________________________________\n",
      "conv3d_5 (Conv3D)            (None, 52, 63, 45, 1)     65        \n",
      "=================================================================\n",
      "Total params: 5,497\n",
      "Trainable params: 5,497\n",
      "Non-trainable params: 0\n",
      "_________________________________________________________________\n"
     ]
    }
   ],
   "source": [
    "autoencoder.summary()"
   ]
  },
  {
   "cell_type": "code",
   "execution_count": 61,
   "metadata": {},
   "outputs": [],
   "source": [
    "encoder = Model(input_img, encoded)"
   ]
  },
  {
   "cell_type": "code",
   "execution_count": 62,
   "metadata": {},
   "outputs": [
    {
     "name": "stdout",
     "output_type": "stream",
     "text": [
      "_________________________________________________________________\n",
      "Layer (type)                 Output Shape              Param #   \n",
      "=================================================================\n",
      "input_1 (InputLayer)         (None, 52, 63, 45, 1)     0         \n",
      "_________________________________________________________________\n",
      "conv3d_1 (Conv3D)            (None, 52, 63, 45, 8)     224       \n",
      "_________________________________________________________________\n",
      "max_pooling3d_1 (MaxPooling3 (None, 26, 21, 15, 8)     0         \n",
      "_________________________________________________________________\n",
      "conv3d_2 (Conv3D)            (None, 26, 21, 15, 8)     1736      \n",
      "_________________________________________________________________\n",
      "max_pooling3d_2 (MaxPooling3 (None, 13, 7, 5, 8)       0         \n",
      "=================================================================\n",
      "Total params: 1,960\n",
      "Trainable params: 1,960\n",
      "Non-trainable params: 0\n",
      "_________________________________________________________________\n"
     ]
    }
   ],
   "source": [
    "encoder.summary()"
   ]
  },
  {
   "cell_type": "code",
   "execution_count": 63,
   "metadata": {},
   "outputs": [],
   "source": [
    "autoencoder.compile(optimizer='adam',loss='mse')"
   ]
  },
  {
   "cell_type": "markdown",
   "metadata": {},
   "source": [
    "# Resizing image (omitting pixels)"
   ]
  },
  {
   "cell_type": "code",
   "execution_count": 64,
   "metadata": {},
   "outputs": [
    {
     "data": {
      "text/plain": [
       "(37940, 52, 63, 45, 1)"
      ]
     },
     "execution_count": 64,
     "metadata": {},
     "output_type": "execute_result"
    }
   ],
   "source": [
    "X = X[:,0:52,:,0:45].reshape(X.shape[0],52,63,45,1)\n",
    "X.shape"
   ]
  },
  {
   "cell_type": "markdown",
   "metadata": {},
   "source": [
    "# Image attributes"
   ]
  },
  {
   "cell_type": "code",
   "execution_count": 65,
   "metadata": {},
   "outputs": [],
   "source": [
    "img_h=X.shape[1]\n",
    "img_w=X.shape[2]\n",
    "img_d=X.shape[3]\n",
    "nb_classes=2"
   ]
  },
  {
   "cell_type": "markdown",
   "metadata": {},
   "source": [
    "# Training autoencoder"
   ]
  },
  {
   "cell_type": "code",
   "execution_count": 68,
   "metadata": {},
   "outputs": [
    {
     "name": "stdout",
     "output_type": "stream",
     "text": [
      "Train on 25419 samples, validate on 12521 samples\n",
      "Epoch 1/240\n",
      " - 296s - loss: 3135.6207 - val_loss: 2193.1503\n",
      "Epoch 2/240\n",
      " - 296s - loss: 3207.1861 - val_loss: 2277.0840\n",
      "Epoch 3/240\n",
      " - 297s - loss: 3086.8334 - val_loss: 2307.0968\n",
      "Epoch 4/240\n",
      " - 296s - loss: 3119.3457 - val_loss: 2200.5232\n",
      "Epoch 5/240\n",
      " - 297s - loss: 3095.7760 - val_loss: 2186.2089\n",
      "Epoch 6/240\n",
      " - 296s - loss: 3103.2362 - val_loss: 2126.9964\n",
      "Epoch 7/240\n",
      " - 296s - loss: 3059.0155 - val_loss: 2184.0303\n",
      "Epoch 8/240\n",
      " - 295s - loss: 3057.2962 - val_loss: 2135.8815\n",
      "Epoch 9/240\n",
      " - 294s - loss: 3055.3805 - val_loss: 2173.9140\n",
      "Epoch 10/240\n",
      " - 296s - loss: 3034.4717 - val_loss: 2111.2300\n",
      "Epoch 11/240\n",
      " - 296s - loss: 3064.5473 - val_loss: 2079.5884\n",
      "Epoch 12/240\n",
      " - 295s - loss: 3017.1654 - val_loss: 2095.1265\n",
      "Epoch 13/240\n",
      " - 295s - loss: 3033.1110 - val_loss: 2081.2338\n",
      "Epoch 14/240\n",
      " - 295s - loss: 2971.3592 - val_loss: 2062.3142\n",
      "Epoch 15/240\n",
      " - 294s - loss: 3053.0385 - val_loss: 2054.3265\n",
      "Epoch 16/240\n",
      " - 295s - loss: 2982.4665 - val_loss: 2281.5405\n",
      "Epoch 17/240\n",
      " - 295s - loss: 2972.6708 - val_loss: 2042.2962\n",
      "Epoch 18/240\n",
      " - 294s - loss: 2995.7171 - val_loss: 2150.7771\n",
      "Epoch 19/240\n",
      " - 295s - loss: 2928.9660 - val_loss: 2115.7061\n",
      "Epoch 20/240\n",
      " - 294s - loss: 2918.2422 - val_loss: 2026.0817\n",
      "Epoch 21/240\n",
      " - 295s - loss: 3010.0021 - val_loss: 2029.1173\n",
      "Epoch 22/240\n",
      " - 295s - loss: 2901.1388 - val_loss: 2034.3255\n",
      "Epoch 23/240\n",
      " - 295s - loss: 2949.7658 - val_loss: 2018.3660\n",
      "Epoch 24/240\n",
      " - 295s - loss: 2910.6586 - val_loss: 2026.6539\n",
      "Epoch 25/240\n",
      " - 295s - loss: 2949.1835 - val_loss: 2007.0306\n",
      "Epoch 26/240\n",
      " - 295s - loss: 2921.6997 - val_loss: 2074.5565\n",
      "Epoch 27/240\n",
      " - 295s - loss: 2860.5547 - val_loss: 2006.3869\n",
      "Epoch 28/240\n",
      " - 296s - loss: 2884.0414 - val_loss: 1994.9028\n",
      "Epoch 29/240\n",
      " - 295s - loss: 2874.2775 - val_loss: 1998.3813\n",
      "Epoch 30/240\n",
      " - 294s - loss: 2888.8150 - val_loss: 2066.7439\n",
      "Epoch 31/240\n",
      " - 295s - loss: 2863.4613 - val_loss: 2053.9234\n",
      "Epoch 32/240\n",
      " - 294s - loss: 2842.4891 - val_loss: 2018.1102\n",
      "Epoch 33/240\n",
      " - 295s - loss: 2878.8381 - val_loss: 2022.3517\n",
      "Epoch 34/240\n",
      " - 295s - loss: 2865.4022 - val_loss: 2075.9908\n",
      "Epoch 35/240\n",
      " - 295s - loss: 2908.0963 - val_loss: 1980.0927\n",
      "Epoch 36/240\n",
      " - 295s - loss: 2784.6789 - val_loss: 1972.3043\n",
      "Epoch 37/240\n",
      " - 294s - loss: 2827.9489 - val_loss: 2044.6719\n",
      "Epoch 38/240\n",
      " - 296s - loss: 2837.8810 - val_loss: 1967.8822\n",
      "Epoch 39/240\n",
      " - 295s - loss: 2848.3594 - val_loss: 2020.2271\n",
      "Epoch 40/240\n",
      " - 296s - loss: 2801.1487 - val_loss: 2014.2120\n",
      "Epoch 41/240\n",
      " - 295s - loss: 2808.1648 - val_loss: 1989.6696\n",
      "Epoch 42/240\n",
      " - 296s - loss: 2799.1007 - val_loss: 2123.0941\n",
      "Epoch 43/240\n",
      " - 295s - loss: 2810.0182 - val_loss: 1957.9431\n",
      "Epoch 44/240\n",
      " - 295s - loss: 2800.8528 - val_loss: 1938.3301\n",
      "Epoch 45/240\n",
      " - 295s - loss: 2801.0534 - val_loss: 1955.4268\n",
      "Epoch 46/240\n",
      " - 295s - loss: 2802.6864 - val_loss: 1966.1631\n",
      "Epoch 47/240\n",
      " - 295s - loss: 2790.3496 - val_loss: 1928.7269\n",
      "Epoch 48/240\n",
      " - 294s - loss: 2784.7500 - val_loss: 1957.3134\n",
      "Epoch 49/240\n",
      " - 295s - loss: 2770.0370 - val_loss: 1955.7688\n",
      "Epoch 50/240\n",
      " - 295s - loss: 2773.6477 - val_loss: 1916.0317\n",
      "Epoch 51/240\n",
      " - 295s - loss: 2766.1407 - val_loss: 1917.4553\n",
      "Epoch 52/240\n",
      " - 296s - loss: 2917.0323 - val_loss: 1920.3473\n",
      "Epoch 53/240\n",
      " - 295s - loss: 2705.8499 - val_loss: 1907.2977\n",
      "Epoch 54/240\n",
      " - 295s - loss: 2749.6839 - val_loss: 1928.5415\n",
      "Epoch 55/240\n",
      " - 295s - loss: 2728.0432 - val_loss: 1915.2995\n",
      "Epoch 56/240\n",
      " - 296s - loss: 2771.1238 - val_loss: 2038.6186\n",
      "Epoch 57/240\n",
      " - 294s - loss: 2734.1007 - val_loss: 1929.9684\n",
      "Epoch 58/240\n",
      " - 296s - loss: 2766.6448 - val_loss: 1910.7853\n",
      "Epoch 59/240\n",
      " - 295s - loss: 2721.4739 - val_loss: 1893.7081\n",
      "Epoch 60/240\n",
      " - 295s - loss: 2717.8276 - val_loss: 2005.9016\n",
      "Epoch 61/240\n",
      " - 296s - loss: 2810.5940 - val_loss: 2019.1507\n",
      "Epoch 62/240\n",
      " - 295s - loss: 2722.4552 - val_loss: 2143.0229\n",
      "Epoch 63/240\n",
      " - 296s - loss: 2688.3200 - val_loss: 1885.0768\n",
      "Epoch 64/240\n",
      " - 295s - loss: 2728.0057 - val_loss: 1885.1945\n",
      "Epoch 65/240\n",
      " - 295s - loss: 2715.6139 - val_loss: 1876.8971\n",
      "Epoch 66/240\n",
      " - 294s - loss: 2766.7175 - val_loss: 2249.6311\n",
      "Epoch 67/240\n",
      " - 295s - loss: 2672.2372 - val_loss: 1886.6773\n",
      "Epoch 68/240\n",
      " - 294s - loss: 2863.9075 - val_loss: 1880.1948\n",
      "Epoch 69/240\n",
      " - 295s - loss: 2642.8260 - val_loss: 1870.4569\n",
      "Epoch 70/240\n",
      " - 294s - loss: 2694.3244 - val_loss: 2113.0980\n",
      "Epoch 71/240\n",
      " - 295s - loss: 2719.2841 - val_loss: 1915.9842\n",
      "Epoch 72/240\n",
      " - 293s - loss: 2658.5393 - val_loss: 1865.3394\n",
      "Epoch 73/240\n",
      " - 295s - loss: 2750.7012 - val_loss: 1873.8199\n",
      "Epoch 74/240\n",
      " - 293s - loss: 2663.1793 - val_loss: 1891.6372\n",
      "Epoch 75/240\n",
      " - 296s - loss: 2671.6090 - val_loss: 1934.1622\n",
      "Epoch 76/240\n",
      " - 295s - loss: 2699.8178 - val_loss: 2055.6854\n",
      "Epoch 77/240\n",
      " - 295s - loss: 2694.3779 - val_loss: 1875.1211\n",
      "Epoch 78/240\n",
      " - 294s - loss: 2704.8750 - val_loss: 1937.4548\n",
      "Epoch 79/240\n",
      " - 295s - loss: 2649.2188 - val_loss: 1894.5547\n",
      "Epoch 80/240\n",
      " - 295s - loss: 2819.0517 - val_loss: 1849.8544\n",
      "Epoch 81/240\n",
      " - 295s - loss: 2607.9680 - val_loss: 1850.0223\n",
      "Epoch 82/240\n",
      " - 294s - loss: 2677.2549 - val_loss: 1843.7369\n",
      "Epoch 83/240\n",
      " - 295s - loss: 2647.3111 - val_loss: 1846.3632\n",
      "Epoch 84/240\n",
      " - 295s - loss: 2694.3506 - val_loss: 1902.3813\n",
      "Epoch 85/240\n",
      " - 295s - loss: 2656.8465 - val_loss: 1865.1431\n",
      "Epoch 86/240\n",
      " - 294s - loss: 2642.3169 - val_loss: 2318.7608\n",
      "Epoch 87/240\n",
      " - 295s - loss: 2688.8508 - val_loss: 1849.1665\n",
      "Epoch 88/240\n",
      " - 294s - loss: 2633.1460 - val_loss: 1835.8026\n",
      "Epoch 89/240\n",
      " - 296s - loss: 2709.0406 - val_loss: 1854.4724\n",
      "Epoch 90/240\n",
      " - 295s - loss: 2618.1585 - val_loss: 1830.0462\n",
      "Epoch 91/240\n",
      " - 294s - loss: 2641.5347 - val_loss: 1832.1985\n",
      "Epoch 92/240\n",
      " - 295s - loss: 2649.2075 - val_loss: 1890.7192\n",
      "Epoch 93/240\n",
      " - 295s - loss: 2647.5102 - val_loss: 2200.8672\n",
      "Epoch 94/240\n",
      " - 295s - loss: 2640.5196 - val_loss: 1858.8669\n",
      "Epoch 95/240\n",
      " - 294s - loss: 2693.0031 - val_loss: 1837.4068\n",
      "Epoch 96/240\n",
      " - 295s - loss: 2616.2242 - val_loss: 1890.5422\n",
      "Epoch 97/240\n",
      " - 295s - loss: 2635.6746 - val_loss: 1837.0842\n",
      "Epoch 98/240\n",
      " - 295s - loss: 2654.9903 - val_loss: 1831.7537\n",
      "Epoch 99/240\n",
      " - 294s - loss: 2619.5404 - val_loss: 1927.5245\n",
      "Epoch 100/240\n",
      " - 293s - loss: 2606.3020 - val_loss: 1838.8313\n",
      "Epoch 101/240\n",
      " - 293s - loss: 2650.0789 - val_loss: 1816.4817\n",
      "Epoch 102/240\n",
      " - 295s - loss: 2623.9687 - val_loss: 1825.5154\n",
      "Epoch 103/240\n",
      " - 293s - loss: 2642.9245 - val_loss: 1992.4567\n",
      "Epoch 104/240\n",
      " - 295s - loss: 2603.8336 - val_loss: 1863.4650\n",
      "Epoch 105/240\n",
      " - 295s - loss: 2634.0171 - val_loss: 1812.9744\n",
      "Epoch 106/240\n",
      " - 295s - loss: 2606.9218 - val_loss: 1837.0525\n",
      "Epoch 107/240\n",
      " - 294s - loss: 2651.9271 - val_loss: 1837.2162\n",
      "Epoch 108/240\n",
      " - 294s - loss: 2591.9994 - val_loss: 1817.8459\n",
      "Epoch 109/240\n",
      " - 294s - loss: 2632.1200 - val_loss: 1808.3365\n",
      "Epoch 110/240\n",
      " - 295s - loss: 2609.3591 - val_loss: 1821.4662\n",
      "Epoch 111/240\n",
      " - 295s - loss: 2586.9796 - val_loss: 1801.3966\n",
      "Epoch 112/240\n",
      " - 296s - loss: 2607.3847 - val_loss: 1800.4524\n",
      "Epoch 113/240\n",
      " - 294s - loss: 2619.3020 - val_loss: 1812.1535\n",
      "Epoch 114/240\n",
      " - 296s - loss: 2582.8930 - val_loss: 1804.2900\n",
      "Epoch 115/240\n",
      " - 294s - loss: 2577.4999 - val_loss: 1847.9657\n",
      "Epoch 116/240\n",
      " - 294s - loss: 2622.0725 - val_loss: 1794.9918\n",
      "Epoch 117/240\n",
      " - 295s - loss: 2598.4619 - val_loss: 1837.5952\n",
      "Epoch 118/240\n",
      " - 293s - loss: 2591.0341 - val_loss: 1811.7740\n",
      "Epoch 119/240\n",
      " - 294s - loss: 2590.9734 - val_loss: 1880.7625\n",
      "Epoch 120/240\n",
      " - 294s - loss: 2598.5058 - val_loss: 1904.4637\n",
      "Epoch 121/240\n",
      " - 295s - loss: 2592.2502 - val_loss: 1791.2464\n",
      "Epoch 122/240\n",
      " - 295s - loss: 2622.6852 - val_loss: 1882.9980\n",
      "Epoch 123/240\n",
      " - 294s - loss: 2547.2275 - val_loss: 1897.3078\n",
      "Epoch 124/240\n",
      " - 295s - loss: 2576.6302 - val_loss: 1786.8599\n",
      "Epoch 125/240\n",
      " - 294s - loss: 2624.7627 - val_loss: 1790.5541\n",
      "Epoch 126/240\n",
      " - 294s - loss: 2568.3810 - val_loss: 1843.6146\n",
      "Epoch 127/240\n",
      " - 295s - loss: 2564.6285 - val_loss: 1850.3510\n",
      "Epoch 128/240\n",
      " - 295s - loss: 2583.2491 - val_loss: 1865.3724\n",
      "Epoch 129/240\n",
      " - 294s - loss: 2568.2256 - val_loss: 1821.0193\n",
      "Epoch 130/240\n",
      " - 295s - loss: 2662.5121 - val_loss: 1803.8653\n",
      "Epoch 131/240\n",
      " - 295s - loss: 2522.9830 - val_loss: 1780.4184\n",
      "Epoch 132/240\n",
      " - 295s - loss: 2551.1187 - val_loss: 2033.7223\n",
      "Epoch 133/240\n",
      " - 294s - loss: 2548.3713 - val_loss: 1833.9005\n",
      "Epoch 134/240\n",
      " - 295s - loss: 2613.6012 - val_loss: 1927.5312\n",
      "Epoch 135/240\n",
      " - 295s - loss: 2558.3645 - val_loss: 1816.7499\n",
      "Epoch 136/240\n",
      " - 294s - loss: 2550.0875 - val_loss: 1818.5156\n",
      "Epoch 137/240\n",
      " - 295s - loss: 2586.5327 - val_loss: 1776.6353\n",
      "Epoch 138/240\n",
      " - 294s - loss: 2538.8958 - val_loss: 1775.8167\n",
      "Epoch 139/240\n",
      " - 295s - loss: 2564.4382 - val_loss: 1877.9014\n",
      "Epoch 140/240\n",
      " - 295s - loss: 2619.2680 - val_loss: 1783.6632\n",
      "Epoch 141/240\n",
      " - 295s - loss: 2524.8891 - val_loss: 1781.7894\n",
      "Epoch 142/240\n",
      " - 295s - loss: 2534.4969 - val_loss: 1770.2967\n",
      "Epoch 143/240\n",
      " - 295s - loss: 2552.3223 - val_loss: 1917.9536\n",
      "Epoch 144/240\n",
      " - 295s - loss: 2572.3965 - val_loss: 1769.7255\n",
      "Epoch 145/240\n",
      " - 295s - loss: 2613.0769 - val_loss: 1835.8520\n",
      "Epoch 146/240\n",
      " - 295s - loss: 2512.6924 - val_loss: 1778.6112\n",
      "Epoch 147/240\n",
      " - 295s - loss: 2526.2877 - val_loss: 1810.8300\n",
      "Epoch 148/240\n",
      " - 296s - loss: 2549.7778 - val_loss: 1766.0418\n",
      "Epoch 149/240\n",
      " - 296s - loss: 2581.6096 - val_loss: 1767.2557\n",
      "Epoch 150/240\n",
      " - 295s - loss: 2512.6967 - val_loss: 1802.1700\n",
      "Epoch 151/240\n",
      " - 295s - loss: 2523.7969 - val_loss: 1780.6532\n",
      "Epoch 152/240\n",
      " - 293s - loss: 2599.4331 - val_loss: 1761.7420\n",
      "Epoch 153/240\n",
      " - 294s - loss: 2590.4712 - val_loss: 1772.5266\n",
      "Epoch 154/240\n",
      " - 295s - loss: 2500.8908 - val_loss: 1787.9803\n",
      "Epoch 155/240\n",
      " - 295s - loss: 2504.1718 - val_loss: 1760.4938\n",
      "Epoch 156/240\n",
      " - 295s - loss: 2525.8986 - val_loss: 1798.0244\n",
      "Epoch 157/240\n",
      " - 295s - loss: 2577.8271 - val_loss: 1764.5437\n",
      "Epoch 158/240\n",
      " - 294s - loss: 2518.2472 - val_loss: 1835.6871\n",
      "Epoch 159/240\n",
      " - 295s - loss: 2572.4274 - val_loss: 1774.0493\n",
      "Epoch 160/240\n",
      " - 294s - loss: 2488.7180 - val_loss: 1807.5788\n",
      "Epoch 161/240\n",
      " - 295s - loss: 2541.7390 - val_loss: 2178.2577\n",
      "Epoch 162/240\n",
      " - 294s - loss: 2531.5196 - val_loss: 1850.8288\n",
      "Epoch 163/240\n",
      " - 294s - loss: 2613.6725 - val_loss: 1784.9964\n",
      "Epoch 164/240\n",
      " - 294s - loss: 2467.1169 - val_loss: 1753.8717\n",
      "Epoch 165/240\n",
      " - 295s - loss: 2512.0085 - val_loss: 1753.4363\n",
      "Epoch 166/240\n",
      " - 295s - loss: 2574.2342 - val_loss: 2694.2653\n",
      "Epoch 167/240\n",
      " - 295s - loss: 2635.6943 - val_loss: 1752.7723\n",
      "Epoch 168/240\n",
      " - 294s - loss: 2455.6220 - val_loss: 1750.9234\n",
      "Epoch 169/240\n",
      " - 295s - loss: 2493.9607 - val_loss: 1801.1408\n",
      "Epoch 170/240\n",
      " - 295s - loss: 2531.4697 - val_loss: 1756.1809\n",
      "Epoch 171/240\n",
      " - 295s - loss: 2647.5904 - val_loss: 1756.6240\n",
      "Epoch 172/240\n",
      " - 294s - loss: 2447.8169 - val_loss: 1753.9871\n",
      "Epoch 173/240\n",
      " - 295s - loss: 2503.9477 - val_loss: 1751.6555\n",
      "Epoch 174/240\n",
      " - 295s - loss: 2493.4549 - val_loss: 1770.8827\n",
      "Epoch 175/240\n",
      " - 295s - loss: 2514.1380 - val_loss: 1746.4166\n",
      "Epoch 176/240\n",
      " - 295s - loss: 2520.3262 - val_loss: 1746.3681\n",
      "Epoch 177/240\n",
      " - 295s - loss: 2498.6103 - val_loss: 1809.3502\n",
      "Epoch 178/240\n",
      " - 295s - loss: 2526.0440 - val_loss: 1810.6508\n",
      "Epoch 179/240\n",
      " - 295s - loss: 2482.8154 - val_loss: 1747.4746\n",
      "Epoch 180/240\n",
      " - 294s - loss: 2542.7097 - val_loss: 1904.9273\n",
      "Epoch 181/240\n",
      " - 295s - loss: 2485.1128 - val_loss: 1813.9359\n",
      "Epoch 182/240\n",
      " - 295s - loss: 2508.8464 - val_loss: 1741.3594\n",
      "Epoch 183/240\n",
      " - 295s - loss: 2515.9509 - val_loss: 1848.5247\n",
      "Epoch 184/240\n",
      " - 295s - loss: 2529.3362 - val_loss: 1787.6657\n",
      "Epoch 185/240\n",
      " - 294s - loss: 2478.0656 - val_loss: 1800.4830\n",
      "Epoch 186/240\n",
      " - 296s - loss: 2502.0584 - val_loss: 1759.3705\n",
      "Epoch 187/240\n",
      " - 295s - loss: 2489.6278 - val_loss: 1753.4068\n",
      "Epoch 188/240\n",
      " - 296s - loss: 2474.9505 - val_loss: 1740.1436\n",
      "Epoch 189/240\n",
      " - 295s - loss: 2524.9353 - val_loss: 1741.8983\n",
      "Epoch 190/240\n",
      " - 295s - loss: 2523.4215 - val_loss: 1767.0709\n",
      "Epoch 191/240\n",
      " - 294s - loss: 2468.5016 - val_loss: 1740.5294\n",
      "Epoch 192/240\n",
      " - 294s - loss: 2502.7405 - val_loss: 1739.8064\n",
      "Epoch 193/240\n",
      " - 294s - loss: 2511.1262 - val_loss: 1736.2391\n",
      "Epoch 194/240\n",
      " - 295s - loss: 2445.1083 - val_loss: 1743.9949\n",
      "Epoch 195/240\n",
      " - 295s - loss: 2513.4712 - val_loss: 1761.8681\n",
      "Epoch 196/240\n",
      " - 295s - loss: 2481.0295 - val_loss: 1762.2714\n",
      "Epoch 197/240\n",
      " - 295s - loss: 2491.3760 - val_loss: 1740.1263\n",
      "Epoch 198/240\n",
      " - 295s - loss: 2484.1674 - val_loss: 1748.5308\n",
      "Epoch 199/240\n",
      " - 294s - loss: 2528.3673 - val_loss: 1767.5400\n",
      "Epoch 200/240\n",
      " - 294s - loss: 2453.2811 - val_loss: 1762.2663\n",
      "Epoch 201/240\n",
      " - 294s - loss: 2488.1113 - val_loss: 1871.2848\n",
      "Epoch 202/240\n",
      " - 295s - loss: 2554.8280 - val_loss: 1730.0643\n",
      "Epoch 203/240\n",
      " - 295s - loss: 2422.9804 - val_loss: 1732.8936\n",
      "Epoch 204/240\n",
      " - 294s - loss: 2508.3292 - val_loss: 1729.7780\n",
      "Epoch 205/240\n",
      " - 293s - loss: 2442.5472 - val_loss: 1755.4672\n",
      "Epoch 206/240\n",
      " - 294s - loss: 2481.7456 - val_loss: 1734.2368\n",
      "Epoch 207/240\n",
      " - 295s - loss: 2512.2055 - val_loss: 1727.4319\n",
      "Epoch 208/240\n",
      " - 295s - loss: 2484.4715 - val_loss: 1738.0486\n",
      "Epoch 209/240\n",
      " - 294s - loss: 2451.4410 - val_loss: 1736.1035\n",
      "Epoch 210/240\n",
      " - 295s - loss: 2489.4768 - val_loss: 1727.1228\n",
      "Epoch 211/240\n",
      " - 295s - loss: 2471.4367 - val_loss: 1737.6250\n",
      "Epoch 212/240\n",
      " - 294s - loss: 2454.3656 - val_loss: 1730.8256\n",
      "Epoch 213/240\n",
      " - 294s - loss: 2494.3898 - val_loss: 1781.4525\n",
      "Epoch 214/240\n",
      " - 295s - loss: 2466.1858 - val_loss: 1727.3907\n",
      "Epoch 215/240\n",
      " - 294s - loss: 2715.3558 - val_loss: 1743.8864\n",
      "Epoch 216/240\n",
      " - 296s - loss: 2403.2841 - val_loss: 1721.7203\n",
      "Epoch 217/240\n",
      " - 295s - loss: 2409.7116 - val_loss: 1720.9205\n",
      "Epoch 218/240\n",
      " - 293s - loss: 2451.2891 - val_loss: 1890.5526\n",
      "Epoch 219/240\n",
      " - 294s - loss: 2463.1863 - val_loss: 1783.3897\n",
      "Epoch 220/240\n",
      " - 294s - loss: 2496.4786 - val_loss: 1751.5990\n",
      "Epoch 221/240\n",
      " - 295s - loss: 2469.4676 - val_loss: 2010.9725\n",
      "Epoch 222/240\n",
      " - 294s - loss: 2467.8877 - val_loss: 1779.3927\n",
      "Epoch 223/240\n",
      " - 295s - loss: 2448.8243 - val_loss: 1718.7419\n",
      "Epoch 224/240\n",
      " - 295s - loss: 2449.4233 - val_loss: 1905.8344\n",
      "Epoch 225/240\n",
      " - 295s - loss: 2457.3722 - val_loss: 1768.0512\n",
      "Epoch 226/240\n",
      " - 295s - loss: 2484.9691 - val_loss: 1796.3412\n",
      "Epoch 227/240\n",
      " - 295s - loss: 2440.6054 - val_loss: 1733.4524\n",
      "Epoch 228/240\n",
      " - 295s - loss: 2510.0414 - val_loss: 1730.2746\n",
      "Epoch 229/240\n",
      " - 295s - loss: 2436.6501 - val_loss: 1723.6461\n",
      "Epoch 230/240\n",
      " - 294s - loss: 2432.2444 - val_loss: 1738.7244\n",
      "Epoch 231/240\n",
      " - 295s - loss: 2468.1253 - val_loss: 1733.8674\n",
      "Epoch 232/240\n",
      " - 295s - loss: 2462.7284 - val_loss: 1820.5842\n",
      "Epoch 233/240\n",
      " - 295s - loss: 2446.1810 - val_loss: 1712.9612\n",
      "Epoch 234/240\n",
      " - 295s - loss: 2476.8219 - val_loss: 1720.7843\n",
      "Epoch 235/240\n",
      " - 295s - loss: 2424.2331 - val_loss: 1995.5440\n",
      "Epoch 236/240\n",
      " - 295s - loss: 2495.6817 - val_loss: 1800.2712\n",
      "Epoch 237/240\n",
      " - 295s - loss: 2438.8617 - val_loss: 1788.2273\n",
      "Epoch 238/240\n",
      " - 295s - loss: 2700.3970 - val_loss: 1732.7050\n",
      "Epoch 239/240\n",
      " - 295s - loss: 2393.3435 - val_loss: 1711.1174\n",
      "Epoch 240/240\n",
      " - 295s - loss: 2384.6630 - val_loss: 1744.6321\n"
     ]
    }
   ],
   "source": [
    "hist_ae = autoencoder.fit(X,X,epochs=240,batch_size=256,shuffle=True,validation_split=0.33,verbose=2)"
   ]
  },
  {
   "cell_type": "code",
   "execution_count": 72,
   "metadata": {},
   "outputs": [],
   "source": [
    "\n",
    "# summarize history for loss for first 50 epochs\n",
    "plt.plot(hist_ae.history['loss'])\n",
    "plt.plot(hist_ae.history['val_loss'])\n",
    "plt.title('model loss')\n",
    "plt.ylabel('loss')\n",
    "plt.xlabel('epoch')\n",
    "plt.legend(['train', 'val'], loc='upper left')\n",
    "plt.show()"
   ]
  },
  {
   "cell_type": "markdown",
   "metadata": {},
   "source": [
    "# Saving data to file"
   ]
  },
  {
   "cell_type": "code",
   "execution_count": 74,
   "metadata": {},
   "outputs": [
    {
     "data": {
      "text/plain": [
       "(37940, 13, 7, 5, 8)"
      ]
     },
     "execution_count": 74,
     "metadata": {},
     "output_type": "execute_result"
    }
   ],
   "source": [
    "#finding latent representation\n",
    "fmri_encoded_x_data = encoder.predict(X)\n",
    "fmri_encoded_x_data.shape"
   ]
  },
  {
   "cell_type": "code",
   "execution_count": 75,
   "metadata": {},
   "outputs": [],
   "source": [
    "h5_object = h5py.File('fmri_encoded_data_130718_3D.h5', 'w')\n",
    "h5_object_y = h5py.File('fmri_label_data_130718_3D.h5', 'w')"
   ]
  },
  {
   "cell_type": "code",
   "execution_count": 76,
   "metadata": {},
   "outputs": [],
   "source": [
    "h5_object.create_dataset('fmri_encoded_data',data=fmri_encoded_x_data)\n",
    "h5_object_y.create_dataset('fmri_label',data=y_encode)\n",
    "h5_object.close()\n",
    "h5_object_y.close()"
   ]
  },
  {
   "cell_type": "markdown",
   "metadata": {},
   "source": [
    "# Loading data from file"
   ]
  },
  {
   "cell_type": "code",
   "execution_count": 120,
   "metadata": {},
   "outputs": [],
   "source": [
    "h5f = h5py.File('fmri_encoded_data_130718_3D.h5','r')\n",
    "h5fy= h5py.File('fmri_label_data_130718_3D.h5','r')\n",
    "X = np.array(h5f['fmri_encoded_data'])\n",
    "y = np.array(h5fy['fmri_label'])"
   ]
  },
  {
   "cell_type": "markdown",
   "metadata": {},
   "source": [
    "# Pre-processing and PCA"
   ]
  },
  {
   "cell_type": "code",
   "execution_count": 121,
   "metadata": {},
   "outputs": [],
   "source": [
    "X_data = X.reshape(37940,13*7*5*8)"
   ]
  },
  {
   "cell_type": "code",
   "execution_count": 130,
   "metadata": {},
   "outputs": [
    {
     "data": {
      "text/plain": [
       "array([[1., 0.],\n",
       "       [1., 0.],\n",
       "       [1., 0.],\n",
       "       ...,\n",
       "       [0., 1.],\n",
       "       [0., 1.],\n",
       "       [0., 1.]], dtype=float32)"
      ]
     },
     "execution_count": 130,
     "metadata": {},
     "output_type": "execute_result"
    }
   ],
   "source": [
    "X_data.shape"
   ]
  },
  {
   "cell_type": "code",
   "execution_count": 123,
   "metadata": {},
   "outputs": [
    {
     "data": {
      "text/plain": [
       "PCA(copy=True, iterated_power='auto', n_components=10, random_state=None,\n",
       "  svd_solver='auto', tol=0.0, whiten=False)"
      ]
     },
     "execution_count": 123,
     "metadata": {},
     "output_type": "execute_result"
    }
   ],
   "source": [
    "from sklearn.decomposition import PCA\n",
    "from sklearn.model_selection import train_test_split\n",
    "pca = PCA(n_components = 10)\n",
    "pca.fit(X_data)"
   ]
  },
  {
   "cell_type": "code",
   "execution_count": 124,
   "metadata": {},
   "outputs": [
    {
     "data": {
      "text/plain": [
       "0.95514864"
      ]
     },
     "execution_count": 124,
     "metadata": {},
     "output_type": "execute_result"
    }
   ],
   "source": [
    "var = np.array(pca.explained_variance_ratio_)\n",
    "np.sum(var)\n",
    "#retaining 95% of variance"
   ]
  },
  {
   "cell_type": "code",
   "execution_count": 131,
   "metadata": {},
   "outputs": [
    {
     "data": {
      "text/plain": [
       "array([0, 0, 0, ..., 1, 1, 1], dtype=int64)"
      ]
     },
     "execution_count": 131,
     "metadata": {},
     "output_type": "execute_result"
    }
   ],
   "source": [
    "X_data = pca.fit_transform(X_data)\n",
    "X_data.shape\n",
    "X_transform = X_data\n",
    "#y = np.argmax(y,axis = 1)"
   ]
  },
  {
   "cell_type": "code",
   "execution_count": 135,
   "metadata": {},
   "outputs": [],
   "source": [
    "X_train, X_test, y_train, y_test = train_test_split(X_transform,y, test_size=0.33,shuffle=True)"
   ]
  },
  {
   "cell_type": "markdown",
   "metadata": {},
   "source": [
    "# Logistic Regression"
   ]
  },
  {
   "cell_type": "code",
   "execution_count": 136,
   "metadata": {},
   "outputs": [],
   "source": [
    "from sklearn.linear_model import LogisticRegression"
   ]
  },
  {
   "cell_type": "code",
   "execution_count": 137,
   "metadata": {},
   "outputs": [
    {
     "data": {
      "text/plain": [
       "LogisticRegression(C=1.0, class_weight=None, dual=False, fit_intercept=True,\n",
       "          intercept_scaling=1, max_iter=100, multi_class='ovr', n_jobs=1,\n",
       "          penalty='l2', random_state=None, solver='liblinear', tol=0.0001,\n",
       "          verbose=0, warm_start=False)"
      ]
     },
     "execution_count": 137,
     "metadata": {},
     "output_type": "execute_result"
    }
   ],
   "source": [
    "lr = LogisticRegression()\n",
    "lr.fit(X_train,y_train)"
   ]
  },
  {
   "cell_type": "code",
   "execution_count": 138,
   "metadata": {},
   "outputs": [
    {
     "data": {
      "text/plain": [
       "0.643079626227937"
      ]
     },
     "execution_count": 138,
     "metadata": {},
     "output_type": "execute_result"
    }
   ],
   "source": [
    "lr.score(X_test,y_test)"
   ]
  },
  {
   "cell_type": "markdown",
   "metadata": {},
   "source": [
    "# GDA (Linear Discriminant Analysis)"
   ]
  },
  {
   "cell_type": "code",
   "execution_count": 143,
   "metadata": {},
   "outputs": [],
   "source": [
    "from sklearn.discriminant_analysis import LinearDiscriminantAnalysis as LDA,QuadraticDiscriminantAnalysis as QDA"
   ]
  },
  {
   "cell_type": "code",
   "execution_count": 145,
   "metadata": {},
   "outputs": [
    {
     "data": {
      "text/plain": [
       "LinearDiscriminantAnalysis(n_components=None, priors=None, shrinkage=None,\n",
       "              solver='svd', store_covariance=False, tol=0.0001)"
      ]
     },
     "execution_count": 145,
     "metadata": {},
     "output_type": "execute_result"
    }
   ],
   "source": [
    "lda = LDA()\n",
    "lda.fit(X_train,y_train)"
   ]
  },
  {
   "cell_type": "code",
   "execution_count": 146,
   "metadata": {},
   "outputs": [
    {
     "data": {
      "text/plain": [
       "0.6446769427362031"
      ]
     },
     "execution_count": 146,
     "metadata": {},
     "output_type": "execute_result"
    }
   ],
   "source": [
    "lda.score(X_test,y_test)"
   ]
  },
  {
   "cell_type": "markdown",
   "metadata": {},
   "source": [
    "# GDA with class-specific covariance matrices (Quadratic Discriminant Analysis)"
   ]
  },
  {
   "cell_type": "code",
   "execution_count": 148,
   "metadata": {},
   "outputs": [
    {
     "data": {
      "text/plain": [
       "QuadraticDiscriminantAnalysis(priors=None, reg_param=0.0,\n",
       "               store_covariance=False, store_covariances=None, tol=0.0001)"
      ]
     },
     "execution_count": 148,
     "metadata": {},
     "output_type": "execute_result"
    }
   ],
   "source": [
    "qda = QDA()\n",
    "qda.fit(X_train,y_train)"
   ]
  },
  {
   "cell_type": "code",
   "execution_count": 149,
   "metadata": {},
   "outputs": [
    {
     "data": {
      "text/plain": [
       "0.7164763197827649"
      ]
     },
     "execution_count": 149,
     "metadata": {},
     "output_type": "execute_result"
    }
   ],
   "source": [
    "qda.score(X_test,y_test)"
   ]
  },
  {
   "cell_type": "markdown",
   "metadata": {},
   "source": [
    "# Decision tree"
   ]
  },
  {
   "cell_type": "code",
   "execution_count": 150,
   "metadata": {},
   "outputs": [],
   "source": [
    "from sklearn.tree import DecisionTreeClassifier"
   ]
  },
  {
   "cell_type": "code",
   "execution_count": 153,
   "metadata": {},
   "outputs": [
    {
     "data": {
      "text/plain": [
       "DecisionTreeClassifier(class_weight=None, criterion='gini', max_depth=None,\n",
       "            max_features=None, max_leaf_nodes=None,\n",
       "            min_impurity_decrease=0.0, min_impurity_split=None,\n",
       "            min_samples_leaf=1, min_samples_split=2,\n",
       "            min_weight_fraction_leaf=0.0, presort=False, random_state=None,\n",
       "            splitter='best')"
      ]
     },
     "execution_count": 153,
     "metadata": {},
     "output_type": "execute_result"
    }
   ],
   "source": [
    "dt = DecisionTreeClassifier()\n",
    "dt.fit(X_train,y_train)"
   ]
  },
  {
   "cell_type": "code",
   "execution_count": 154,
   "metadata": {},
   "outputs": [
    {
     "data": {
      "text/plain": [
       "0.991374490855363"
      ]
     },
     "execution_count": 154,
     "metadata": {},
     "output_type": "execute_result"
    }
   ],
   "source": [
    "dt.score(X_test,y_test)"
   ]
  },
  {
   "cell_type": "code",
   "execution_count": 155,
   "metadata": {},
   "outputs": [
    {
     "data": {
      "text/plain": [
       "<sklearn.tree._tree.Tree at 0x2a215c291d0>"
      ]
     },
     "execution_count": 155,
     "metadata": {},
     "output_type": "execute_result"
    }
   ],
   "source": []
  },
  {
   "cell_type": "code",
   "execution_count": null,
   "metadata": {},
   "outputs": [],
   "source": []
  }
 ],
 "metadata": {
  "kernelspec": {
   "display_name": "Python 2",
   "language": "python",
   "name": "python2"
  },
  "language_info": {
   "codemirror_mode": {
    "name": "ipython",
    "version": 2
   },
   "file_extension": ".py",
   "mimetype": "text/x-python",
   "name": "python",
   "nbconvert_exporter": "python",
   "pygments_lexer": "ipython2",
   "version": "2.7.14"
  }
 },
 "nbformat": 4,
 "nbformat_minor": 2
}
